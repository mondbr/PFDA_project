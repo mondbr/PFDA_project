{
 "cells": [
  {
   "cell_type": "markdown",
   "metadata": {},
   "source": [
    "<img src=\"https://beyondthestates.com/wp-content/uploads/2023/09/download.png\" width=20% height=20%>\n",
    "\n",
    "# Higher Diploma in Data Analytics course from [ATU](https://www.atu.ie/) in Winter 2024/25\n",
    "##  Programming for Data Analytics - project 2024/2025\n",
    "***\n",
    "\n",
    "<div style=\"text-align:center\">\n",
    "<img src=\"img/Wind_turbines.jpg\" width=60% height=80%>\n",
    "<div style=\"text-align:center; font-size:10px;\"><b>by stockertui @vecteezy.com </b>\n",
    "</div>"
   ]
  },
  {
   "cell_type": "markdown",
   "metadata": {},
   "source": [
    "### Project Overview \n",
    "In this project I need to demonstrate a data analysis of the wind speed in one of the Ireland's regions.\n",
    "I will analyze 70 years of historical wind speed data from the Roches Point weather station in County Cork, Ireland. "
   ]
  }
 ],
 "metadata": {
  "language_info": {
   "name": "python"
  }
 },
 "nbformat": 4,
 "nbformat_minor": 2
}
